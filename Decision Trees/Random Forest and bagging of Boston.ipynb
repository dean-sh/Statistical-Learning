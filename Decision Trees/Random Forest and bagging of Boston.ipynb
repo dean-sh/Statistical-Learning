{
 "cells": [
  {
   "cell_type": "markdown",
   "metadata": {},
   "source": [
    "## Random Forest and bagging of Boston Dataset"
   ]
  },
  {
   "cell_type": "code",
   "execution_count": 10,
   "metadata": {},
   "outputs": [],
   "source": [
    "library(MASS)\n",
    "library(randomForest)\n",
    "set.seed(42)\n",
    "\n",
    "df = Boston"
   ]
  },
  {
   "cell_type": "code",
   "execution_count": 12,
   "metadata": {},
   "outputs": [
    {
     "data": {
      "text/html": [
       "<table>\n",
       "<thead><tr><th scope=col>crim</th><th scope=col>zn</th><th scope=col>indus</th><th scope=col>chas</th><th scope=col>nox</th><th scope=col>rm</th><th scope=col>age</th><th scope=col>dis</th><th scope=col>rad</th><th scope=col>tax</th><th scope=col>ptratio</th><th scope=col>black</th><th scope=col>lstat</th><th scope=col>medv</th></tr></thead>\n",
       "<tbody>\n",
       "\t<tr><td>0.00632</td><td>18     </td><td>2.31   </td><td>0      </td><td>0.538  </td><td>6.575  </td><td>65.2   </td><td>4.0900 </td><td>1      </td><td>296    </td><td>15.3   </td><td>396.90 </td><td>4.98   </td><td>24.0   </td></tr>\n",
       "\t<tr><td>0.02731</td><td> 0     </td><td>7.07   </td><td>0      </td><td>0.469  </td><td>6.421  </td><td>78.9   </td><td>4.9671 </td><td>2      </td><td>242    </td><td>17.8   </td><td>396.90 </td><td>9.14   </td><td>21.6   </td></tr>\n",
       "\t<tr><td>0.02729</td><td> 0     </td><td>7.07   </td><td>0      </td><td>0.469  </td><td>7.185  </td><td>61.1   </td><td>4.9671 </td><td>2      </td><td>242    </td><td>17.8   </td><td>392.83 </td><td>4.03   </td><td>34.7   </td></tr>\n",
       "\t<tr><td>0.03237</td><td> 0     </td><td>2.18   </td><td>0      </td><td>0.458  </td><td>6.998  </td><td>45.8   </td><td>6.0622 </td><td>3      </td><td>222    </td><td>18.7   </td><td>394.63 </td><td>2.94   </td><td>33.4   </td></tr>\n",
       "\t<tr><td>0.06905</td><td> 0     </td><td>2.18   </td><td>0      </td><td>0.458  </td><td>7.147  </td><td>54.2   </td><td>6.0622 </td><td>3      </td><td>222    </td><td>18.7   </td><td>396.90 </td><td>5.33   </td><td>36.2   </td></tr>\n",
       "\t<tr><td>0.02985</td><td> 0     </td><td>2.18   </td><td>0      </td><td>0.458  </td><td>6.430  </td><td>58.7   </td><td>6.0622 </td><td>3      </td><td>222    </td><td>18.7   </td><td>394.12 </td><td>5.21   </td><td>28.7   </td></tr>\n",
       "</tbody>\n",
       "</table>\n"
      ],
      "text/latex": [
       "\\begin{tabular}{r|llllllllllllll}\n",
       " crim & zn & indus & chas & nox & rm & age & dis & rad & tax & ptratio & black & lstat & medv\\\\\n",
       "\\hline\n",
       "\t 0.00632 & 18      & 2.31    & 0       & 0.538   & 6.575   & 65.2    & 4.0900  & 1       & 296     & 15.3    & 396.90  & 4.98    & 24.0   \\\\\n",
       "\t 0.02731 &  0      & 7.07    & 0       & 0.469   & 6.421   & 78.9    & 4.9671  & 2       & 242     & 17.8    & 396.90  & 9.14    & 21.6   \\\\\n",
       "\t 0.02729 &  0      & 7.07    & 0       & 0.469   & 7.185   & 61.1    & 4.9671  & 2       & 242     & 17.8    & 392.83  & 4.03    & 34.7   \\\\\n",
       "\t 0.03237 &  0      & 2.18    & 0       & 0.458   & 6.998   & 45.8    & 6.0622  & 3       & 222     & 18.7    & 394.63  & 2.94    & 33.4   \\\\\n",
       "\t 0.06905 &  0      & 2.18    & 0       & 0.458   & 7.147   & 54.2    & 6.0622  & 3       & 222     & 18.7    & 396.90  & 5.33    & 36.2   \\\\\n",
       "\t 0.02985 &  0      & 2.18    & 0       & 0.458   & 6.430   & 58.7    & 6.0622  & 3       & 222     & 18.7    & 394.12  & 5.21    & 28.7   \\\\\n",
       "\\end{tabular}\n"
      ],
      "text/markdown": [
       "\n",
       "crim | zn | indus | chas | nox | rm | age | dis | rad | tax | ptratio | black | lstat | medv | \n",
       "|---|---|---|---|---|---|\n",
       "| 0.00632 | 18      | 2.31    | 0       | 0.538   | 6.575   | 65.2    | 4.0900  | 1       | 296     | 15.3    | 396.90  | 4.98    | 24.0    | \n",
       "| 0.02731 |  0      | 7.07    | 0       | 0.469   | 6.421   | 78.9    | 4.9671  | 2       | 242     | 17.8    | 396.90  | 9.14    | 21.6    | \n",
       "| 0.02729 |  0      | 7.07    | 0       | 0.469   | 7.185   | 61.1    | 4.9671  | 2       | 242     | 17.8    | 392.83  | 4.03    | 34.7    | \n",
       "| 0.03237 |  0      | 2.18    | 0       | 0.458   | 6.998   | 45.8    | 6.0622  | 3       | 222     | 18.7    | 394.63  | 2.94    | 33.4    | \n",
       "| 0.06905 |  0      | 2.18    | 0       | 0.458   | 7.147   | 54.2    | 6.0622  | 3       | 222     | 18.7    | 396.90  | 5.33    | 36.2    | \n",
       "| 0.02985 |  0      | 2.18    | 0       | 0.458   | 6.430   | 58.7    | 6.0622  | 3       | 222     | 18.7    | 394.12  | 5.21    | 28.7    | \n",
       "\n",
       "\n"
      ],
      "text/plain": [
       "  crim    zn indus chas nox   rm    age  dis    rad tax ptratio black  lstat\n",
       "1 0.00632 18 2.31  0    0.538 6.575 65.2 4.0900 1   296 15.3    396.90 4.98 \n",
       "2 0.02731  0 7.07  0    0.469 6.421 78.9 4.9671 2   242 17.8    396.90 9.14 \n",
       "3 0.02729  0 7.07  0    0.469 7.185 61.1 4.9671 2   242 17.8    392.83 4.03 \n",
       "4 0.03237  0 2.18  0    0.458 6.998 45.8 6.0622 3   222 18.7    394.63 2.94 \n",
       "5 0.06905  0 2.18  0    0.458 7.147 54.2 6.0622 3   222 18.7    396.90 5.33 \n",
       "6 0.02985  0 2.18  0    0.458 6.430 58.7 6.0622 3   222 18.7    394.12 5.21 \n",
       "  medv\n",
       "1 24.0\n",
       "2 21.6\n",
       "3 34.7\n",
       "4 33.4\n",
       "5 36.2\n",
       "6 28.7"
      ]
     },
     "metadata": {},
     "output_type": "display_data"
    }
   ],
   "source": [
    "head(df)"
   ]
  },
  {
   "cell_type": "markdown",
   "metadata": {},
   "source": [
    "#### Train-Test Split"
   ]
  },
  {
   "cell_type": "code",
   "execution_count": 22,
   "metadata": {},
   "outputs": [
    {
     "name": "stdout",
     "output_type": "stream",
     "text": [
      "train size: 354 14\n",
      "test size: 152 14"
     ]
    }
   ],
   "source": [
    "train.index = sample(1:nrow(Boston), 0.7*nrow(Boston))\n",
    "train = Boston[train.index,]\n",
    "test = Boston[-train.index,]\n",
    "\n",
    "cat(\"train size:\", dim(train))\n",
    "cat(\"\\ntest size:\", dim(test))\n"
   ]
  },
  {
   "cell_type": "markdown",
   "metadata": {},
   "source": [
    "### Modeling a regression random forest, with m = p variables (all 13 features) "
   ]
  },
  {
   "cell_type": "code",
   "execution_count": 25,
   "metadata": {},
   "outputs": [
    {
     "data": {
      "image/png": "[encoded data removed]",
      "text/plain": [
       "Plot with title \"Number of trees vs training error\""
      ]
     },
     "metadata": {},
     "output_type": "display_data",
     "source": "R display func"
    }
   ],
   "source": [
    "rf.Boston = randomForest(medv~., data = Boston, subset =  train.index \n",
    "                         ,mtry = 13, importance = T)\n",
    "\n",
    "par(mfrow = c(1,1))\n",
    "plot(rf.Boston,main = \"Number of trees vs training error\")\n",
    "        "
   ]
  },
  {
   "cell_type": "markdown",
   "metadata": {},
   "source": [
    "### Prediction:"
   ]
  },
  {
   "cell_type": "code",
   "execution_count": 27,
   "metadata": {},
   "outputs": [
    {
     "name": "stdout",
     "output_type": "stream",
     "text": [
      "Test MSE: 10.51674"
     ]
    },
    {
     "data": {
      "image/png": "[encoded data removed]",
      "text/plain": [
       "plot without title"
      ]
     },
     "metadata": {},
     "output_type": "display_data",
     "source": "R display func"
    }
   ],
   "source": [
    "rf.y = predict(rf.Boston, newdata = test)\n",
    "plot(rf.y, test$medv)\n",
    "abline(0,1)\n",
    "\n",
    "#Test MSE:\n",
    "cat(\"Test MSE:\" ,mean((rf.y-test$medv)^2))"
   ]
  },
  {
   "cell_type": "markdown",
   "metadata": {},
   "source": [
    "#### Now, I will use only 6 variables, \"Feature Bagging\", to build each tree."
   ]
  },
  {
   "cell_type": "code",
   "execution_count": 35,
   "metadata": {},
   "outputs": [
    {
     "name": "stdout",
     "output_type": "stream",
     "text": [
      "[1] \"Test MSE: 9.79413446036241\"\n",
      "[1] \"We got a MSE which is a bit smaller\"\n"
     ]
    }
   ],
   "source": [
    "rf.bagging.Boston = randomForest(medv~., data = Boston, subset = train.index,\n",
    "                                 mtry=6, importance = T)\n",
    "rf.y = predict(rf.bagging.Boston, newdata = test)\n",
    "print(paste0(\"Test MSE: \" ,mean((rf.y-test$medv)^2)))\n",
    "print(\"We got a MSE which is a bit smaller\")"
   ]
  },
  {
   "cell_type": "markdown",
   "metadata": {},
   "source": [
    "## Variable importance"
   ]
  },
  {
   "cell_type": "markdown",
   "metadata": {},
   "source": [
    "Calling \"importance()\" shows the importance of each variable, calculated by permuting the Out-of-bag examples - for every tree, there are examples which were not used to create it. This sample is used to calculate the importance measure.\n",
    "The prediction accuracy is calculated from those OOB examples.\n",
    "Then, one variable on the OOB examples is randomly shuffled, effectivly removing its predictive power, while keeping other variables fixed. \n",
    "Then, the difference between the accuracies is measured.\n",
    "\n",
    "This is averaged on all the trees and variables, and normalized by the std.\n"
   ]
  },
  {
   "cell_type": "code",
   "execution_count": 43,
   "metadata": {},
   "outputs": [
    {
     "data": {
      "text/html": [
       "<table>\n",
       "<thead><tr><th></th><th scope=col>%IncMSE</th><th scope=col>IncNodePurity</th></tr></thead>\n",
       "<tbody>\n",
       "\t<tr><th scope=row>crim</th><td>15.568419  </td><td> 1672.67672</td></tr>\n",
       "\t<tr><th scope=row>zn</th><td> 2.389154  </td><td>   99.86424</td></tr>\n",
       "\t<tr><th scope=row>indus</th><td>10.261993  </td><td> 1573.10496</td></tr>\n",
       "\t<tr><th scope=row>chas</th><td> 3.537602  </td><td>  167.78971</td></tr>\n",
       "\t<tr><th scope=row>nox</th><td>16.118009  </td><td> 1534.60671</td></tr>\n",
       "\t<tr><th scope=row>rm</th><td>39.556305  </td><td>10959.44630</td></tr>\n",
       "\t<tr><th scope=row>age</th><td>12.768607  </td><td>  761.84978</td></tr>\n",
       "\t<tr><th scope=row>dis</th><td>14.837758  </td><td> 1476.95458</td></tr>\n",
       "\t<tr><th scope=row>rad</th><td> 5.123607  </td><td>  223.31037</td></tr>\n",
       "\t<tr><th scope=row>tax</th><td>11.949692  </td><td>  585.83739</td></tr>\n",
       "\t<tr><th scope=row>ptratio</th><td>13.940940  </td><td> 1451.31262</td></tr>\n",
       "\t<tr><th scope=row>black</th><td>11.347194  </td><td>  525.97600</td></tr>\n",
       "\t<tr><th scope=row>lstat</th><td>31.982485  </td><td>10295.83683</td></tr>\n",
       "</tbody>\n",
       "</table>\n"
      ],
      "text/latex": [
       "\\begin{tabular}{r|ll}\n",
       "  & \\%IncMSE & IncNodePurity\\\\\n",
       "\\hline\n",
       "\tcrim & 15.568419   &  1672.67672\\\\\n",
       "\tzn &  2.389154   &    99.86424\\\\\n",
       "\tindus & 10.261993   &  1573.10496\\\\\n",
       "\tchas &  3.537602   &   167.78971\\\\\n",
       "\tnox & 16.118009   &  1534.60671\\\\\n",
       "\trm & 39.556305   & 10959.44630\\\\\n",
       "\tage & 12.768607   &   761.84978\\\\\n",
       "\tdis & 14.837758   &  1476.95458\\\\\n",
       "\trad &  5.123607   &   223.31037\\\\\n",
       "\ttax & 11.949692   &   585.83739\\\\\n",
       "\tptratio & 13.940940   &  1451.31262\\\\\n",
       "\tblack & 11.347194   &   525.97600\\\\\n",
       "\tlstat & 31.982485   & 10295.83683\\\\\n",
       "\\end{tabular}\n"
      ],
      "text/markdown": [
       "\n",
       "| <!--/--> | %IncMSE | IncNodePurity | \n",
       "|---|---|---|---|---|---|---|---|---|---|---|---|---|\n",
       "| crim | 15.568419   |  1672.67672 | \n",
       "| zn |  2.389154   |    99.86424 | \n",
       "| indus | 10.261993   |  1573.10496 | \n",
       "| chas |  3.537602   |   167.78971 | \n",
       "| nox | 16.118009   |  1534.60671 | \n",
       "| rm | 39.556305   | 10959.44630 | \n",
       "| age | 12.768607   |   761.84978 | \n",
       "| dis | 14.837758   |  1476.95458 | \n",
       "| rad |  5.123607   |   223.31037 | \n",
       "| tax | 11.949692   |   585.83739 | \n",
       "| ptratio | 13.940940   |  1451.31262 | \n",
       "| black | 11.347194   |   525.97600 | \n",
       "| lstat | 31.982485   | 10295.83683 | \n",
       "\n",
       "\n"
      ],
      "text/plain": [
       "        %IncMSE   IncNodePurity\n",
       "crim    15.568419  1672.67672  \n",
       "zn       2.389154    99.86424  \n",
       "indus   10.261993  1573.10496  \n",
       "chas     3.537602   167.78971  \n",
       "nox     16.118009  1534.60671  \n",
       "rm      39.556305 10959.44630  \n",
       "age     12.768607   761.84978  \n",
       "dis     14.837758  1476.95458  \n",
       "rad      5.123607   223.31037  \n",
       "tax     11.949692   585.83739  \n",
       "ptratio 13.940940  1451.31262  \n",
       "black   11.347194   525.97600  \n",
       "lstat   31.982485 10295.83683  "
      ]
     },
     "metadata": {},
     "output_type": "display_data"
    },
    {
     "data": {
      "image/png": "[encoded data removed]",
      "text/plain": [
       "plot without title"
      ]
     },
     "metadata": {},
     "output_type": "display_data",
     "source": "R display func"
    }
   ],
   "source": [
    "importance(rf.bagging.Boston)\n",
    "varImpPlot(rf.bagging.Boston, main = \"Variable Importance\") "
   ]
  },
  {
   "cell_type": "code",
   "execution_count": null,
   "metadata": {},
   "outputs": [],
   "source": []
  }
 ],
 "metadata": {
  "kernelspec": {
   "display_name": "R",
   "language": "R",
   "name": "ir"
  },
  "language_info": {
   "codemirror_mode": "r",
   "file_extension": ".r",
   "mimetype": "text/x-r-source",
   "name": "R",
   "pygments_lexer": "r",
   "version": "3.5.1"
  }
 },
 "nbformat": 4,
 "nbformat_minor": 2
}
